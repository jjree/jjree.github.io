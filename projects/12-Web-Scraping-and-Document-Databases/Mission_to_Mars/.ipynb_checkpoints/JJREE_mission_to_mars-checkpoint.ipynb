{
 "cells": [
  {
   "cell_type": "code",
   "execution_count": 1,
   "metadata": {},
   "outputs": [],
   "source": [
    "# Dependencies\n",
    "from splinter import Browser\n",
    "from bs4 import BeautifulSoup as bs\n",
    "import pandas as pd\n",
    "import requests\n",
    "import pymongo"
   ]
  },
  {
   "cell_type": "code",
   "execution_count": 2,
   "metadata": {},
   "outputs": [],
   "source": [
    "# Locate Chromedriver path\n",
    "#!which chromedriver"
   ]
  },
  {
   "cell_type": "code",
   "execution_count": 3,
   "metadata": {},
   "outputs": [],
   "source": [
    "# Initiate splinter Browser\n",
    "executable_path = {'executable_path': '/usr/local/bin/chromedriver'}\n",
    "browser = Browser('chrome', **executable_path, headless=False)"
   ]
  },
  {
   "cell_type": "markdown",
   "metadata": {},
   "source": [
    "----\n",
    "\n",
    "### NASA Mars News"
   ]
  },
  {
   "cell_type": "code",
   "execution_count": 4,
   "metadata": {},
   "outputs": [],
   "source": [
    "# Initiate new url and browser to visit it\n",
    "url = 'https://mars.nasa.gov/news/'\n",
    "browser.visit(url)"
   ]
  },
  {
   "cell_type": "code",
   "execution_count": 5,
   "metadata": {},
   "outputs": [],
   "source": [
    "# Extract HTML from site\n",
    "html = browser.html\n",
    "soup = bs(html, 'html.parser')"
   ]
  },
  {
   "cell_type": "code",
   "execution_count": 6,
   "metadata": {},
   "outputs": [
    {
     "name": "stdout",
     "output_type": "stream",
     "text": [
      "What's Mars Solar Conjunction, and Why Does It Matter?\n",
      "Scientists Explore Outback as Testbed for Mars \n",
      "NASA-JPL Names 'Rolling Stones Rock' on Mars\n",
      "Robotic Toolkit Added to NASA's Mars 2020 Rover\n",
      "Space Samples Link NASA's Apollo 11 and Mars 2020\n",
      "Small Satellite Mission of the Year\n",
      "NASA 'Optometrists' Verify Mars 2020 Rover's 20/20 Vision\n",
      "New Finds for Mars Rover, Seven Years After Landing\n",
      "MEDLI2 Installation on Mars 2020 Aeroshell Begins\n",
      "NASA's Mars 2020 Rover Does Biceps Curls \n",
      "Fueling of NASA's Mars 2020 Rover Power System Begins\n",
      "What Does a Marsquake Look Like?\n",
      "Mars 2020 Rover: T-Minus One Year and Counting \n",
      "NASA Racks Up Two Emmy Nominations for Mission Coverage\n",
      "Want to Colonize Mars? Aerogel Could Help\n",
      "A Rover Pit Stop at JPL\n",
      "Mars 2020 Rover Gets a Super Instrument\n",
      "A Neil Armstrong for Mars: Landing the Mars 2020 Rover\n",
      "NASA's InSight Uncovers the 'Mole' \n",
      "Mars 2020 Rover's 7-Foot-Long Robotic Arm Installed\n",
      "NASA Selects Partners for Mars 2020 'Name the Rover' Contest, Seeks Judges\n",
      "Curiosity's Mars Methane Mystery Continues\n",
      "Mars 2020 Rover Gets Its Wheels\n",
      "The Mast Is Raised for NASA's Mars 2020 Rover\n",
      "NASA's Mars 2020 Will Blaze a Trail — for Humans\n",
      "Johnson-Built Device to Help Mars 2020 Rover Search for Signs of Life\n",
      "Watch NASA Build Its Next Mars Rover\n",
      "NASA's Mars Helicopter Testing Enters Final Phase\n",
      "InSight's Team Tries New Strategy to Help the 'Mole'\n",
      "Common Questions about InSight's 'Mole'\n",
      "NASA's Curiosity Mars Rover Finds a Clay Cache\n",
      "NASA to Land in Mars, Pennsylvania to Celebrate Red Planet with STEAM\n",
      "NASA's Mars 2020 Gets a Dose of Space Here on Earth\n",
      "NASA Invites Public to Submit Names to Fly Aboard Next Mars Rover\n",
      "NASA's MRO Completes 60,000 Trips Around Mars\n",
      "Video: Fly over Mount Sharp on Mars\n",
      "Why This Martian Full Moon Looks Like Candy\n",
      "For InSight, Dust Cleanings Will Yield New Science\n",
      "InSight Captures Sunrise and Sunset on Mars\n",
      "NASA Social Media and Websites Win Webby Awards \n"
     ]
    }
   ],
   "source": [
    "# Find and print titles of stories\n",
    "story_list = soup.find_all('ul', class_='item_list')\n",
    "\n",
    "for story in story_list:\n",
    "    titles = story.find_all('h3')\n",
    "    \n",
    "for title in titles:\n",
    "    print(title.text)"
   ]
  },
  {
   "cell_type": "code",
   "execution_count": 7,
   "metadata": {},
   "outputs": [
    {
     "name": "stdout",
     "output_type": "stream",
     "text": [
      "NASA spacecraft at Mars are going to be on their own for a few weeks when the Sun comes between Mars and Earth, interrupting communications.\n",
      "Australia provides a great place for NASA's Mars 2020 and the ESA-Roscosmos ExoMars scientists to hone techniques in preparation for searching for signs ancient life on Mars.\n",
      "NASA's Mars InSight mission honored one of the biggest bands of all time at Pasadena concert.\n",
      "The bit carousel, which lies at the heart of the rover's Sample Caching System, is now aboard NASA's newest rover. \n",
      "While separated by half a century, NASA's Apollo 11 and Mars 2020 missions share the same historic goal: returning samples to Earth.\n",
      "The first interplanetary CubeSats were recognized by the engineering community with the 2019 Small Satellite Mission of the Year award.\n",
      "Mars 2020 rover underwent an eye exam after several cameras were installed on the rover.\n",
      "NASA's Curiosity rover is discovering odd rocks halfway into a region called the \"clay-bearing unit.\"\n",
      "Hardware installed onto NASA's Mars 2020 entry vehicle this week will help to increase the safety of future Mars landings.\n",
      "In this time-lapse video, the robotic arm on NASA's Mars 2020 rover maneuvers its 88-pound (40-kilogram) sensor-laden turret as it moves from a deployed to stowed configuration.\n",
      "NASA gives the go-ahead to fuel the Mars 2020 rover's Multi-Mission Radioisotope Thermoelectric Generator, which will power rover and help keep it warm while exploring Mars.\n",
      "InSight scientists used a special \"shake room\" to demonstrate the differences between quakes on Earth, the Moon and Mars.\n",
      "The launch period for NASA's next rover, Mars 2020, opens exactly one year from today, July 17, 2020, and extends through Aug. 5, 2020.\n",
      "JPL's coverage of the Mars InSight mission is among the efforts that will be up for an award in mid-September.\n",
      "Researchers are studying whether a wonder material used in Mars rovers could help warm parts of the Red Planet rich in water ice.\n",
      "Working like a finely honed machine, a team of engineers in this time-lapse video clip install test wheels on another finely honed machine: NASA's Mars 2020 rover.\n",
      "With its rock-zapping laser, the SuperCam will enable the science team to identify the chemical and mineral makeup of its targets on the Red Planet.\n",
      "NASA's newest rover will have an autopilot called Terrain-Relative Navigation.\n",
      "The lander's robotic arm has successfully removed a piece of hardware blocking the view of its digging device in order to help with recovery efforts.\n",
      "The main robotic arm has been installed on NASA's newest rover. When complete, the arm will enable the rover to hold and use science tools like a human geologist would.\n",
      "The contest for U.S. schoolchildren will open in fall 2019, but judges can sign up now.\n",
      "The Curiosity rover’s follow-on sampling shows last week’s methane levels have sharply decreased.\n",
      "With the mobility suspension in place, the rover not only looks more like a rover but has many of its 'big-ticket items' installed.\n",
      "Engineers at JPL take a group selfie after attaching the remote sensing mast to the Mars 2020 rover.\n",
      "The next robotic Mars mission will carry technology that will help enable astronauts to eventually explore the Red Planet.\n",
      "NASA’s Johnson Space Center (JSC) recently built a new calibration device for the rover to check SHERLOC’s function and properly tune it during the upcoming mission.\n",
      "A newly installed webcam offers the public a live, bird's-eye view of NASA's Mars 2020 rover as it takes shape at NASA's Jet Propulsion Laboratory. \n",
      "NASA's Mars Helicopter flight demonstration project has passed a number of key tests with flying colors.\n",
      "The spacecraft's robotic arm will lift the heat probe's support structure, providing a better look at the instrument that has been trying to burrow into the Martian surface.\n",
      "There's a new plan to get InSight's \"mole\" moving again. The following Q&As with two members of the team answer some of the most common questions about the burrowing device, part of a science instrument called the Heat Flow and Physical Properties Package (HP3).\n",
      "The rover recently drilled two samples, and both showed the highest levels of clay ever found during the mission.\n",
      "NASA returns to Mars, Pennsylvania Friday, May 31 to celebrate Mars exploration and share the agency’s excitement about landing astronauts on the Moon in five years.\n",
      "NASA's Mars 2020 spacecraft has completed tests that are the best Earthly approximations of what the spacecraft will endure during launch and interplanetary cruise.\n",
      "From now till Sept. 30, the public can submit names to be stenciled on chips that will fly on the Mars 2020 rover and receive a souvenir boarding pass.\n",
      "The orbiting spacecraft is also about to set a record for data relayed from the Martian surface.\n",
      "A new animation shows the region NASA's Curiosity rover is currently exploring and where its team wants to go in the future.\n",
      "For the first time, NASA's Mars Odyssey orbiter has caught the Martian moon Phobos during a full moon phase. Each color in this new image represents a temperature range detected by Odyssey's infrared camera.\n",
      "Wind can be crucial to clearing dust from spacecraft solar panels on Mars. With InSight's meteorological sensors, scientists get their first measurements of wind and dust interacting \"live\" on the Martian surface.  \n",
      "InSight joins the rest of NASA's Red Planet surface missions, all of which have photographed either the start or end of a Martian day.\n",
      "NASA's social media presence, the InSight mission social media accounts, NASA.gov and SolarSystem.NASA.gov will be honored at the 2019 Webby Awards - \"the Oscars of the Internet.\"\n"
     ]
    }
   ],
   "source": [
    "# Find and print paragraphs of featured stories\n",
    "paras = story.find_all('div', class_='article_teaser_body')\n",
    "for para in paras:\n",
    "    print(para.text)"
   ]
  },
  {
   "cell_type": "markdown",
   "metadata": {},
   "source": [
    "----\n",
    "\n",
    "### JPL Mars Space Images - Featured Image"
   ]
  },
  {
   "cell_type": "code",
   "execution_count": 8,
   "metadata": {},
   "outputs": [],
   "source": [
    "# Initiate new url and browser to visit it\n",
    "url1 = 'https://www.jpl.nasa.gov/spaceimages/?search=&category=Mars'\n",
    "browser.visit(url1)"
   ]
  },
  {
   "cell_type": "code",
   "execution_count": 9,
   "metadata": {},
   "outputs": [],
   "source": [
    "# Extract HTML from site\n",
    "html1 = browser.html\n",
    "soup1 = bs(html1, 'html.parser')"
   ]
  },
  {
   "cell_type": "code",
   "execution_count": 12,
   "metadata": {},
   "outputs": [
    {
     "name": "stdout",
     "output_type": "stream",
     "text": [
      "https://www.jpl.nasa.gov/spaceimages/images/largesize/PIA23345_hires.jpg\n",
      "https://www.jpl.nasa.gov/spaceimages/images/largesize/PIA23349_hires.jpg\n",
      "https://www.jpl.nasa.gov/spaceimages/images/largesize/PIA23395_hires.jpg\n",
      "https://www.jpl.nasa.gov/spaceimages/images/largesize/PIA23413_hires.jpg\n",
      "https://www.jpl.nasa.gov/spaceimages/images/largesize/PIA23412_hires.jpg\n",
      "https://www.jpl.nasa.gov/spaceimages/images/largesize/PIA23394_hires.jpg\n",
      "https://www.jpl.nasa.gov/spaceimages/images/largesize/PIA23393_hires.jpg\n",
      "https://www.jpl.nasa.gov/spaceimages/images/largesize/PIA23392_hires.jpg\n",
      "https://www.jpl.nasa.gov/spaceimages/images/largesize/PIA23391_hires.jpg\n",
      "https://www.jpl.nasa.gov/spaceimages/images/largesize/PIA23390_hires.jpg\n",
      "https://www.jpl.nasa.gov/spaceimages/images/largesize/PIA23389_hires.jpg\n",
      "https://www.jpl.nasa.gov/spaceimages/images/largesize/PIA23388_hires.jpg\n",
      "https://www.jpl.nasa.gov/spaceimages/images/largesize/PIA23387_hires.jpg\n",
      "https://www.jpl.nasa.gov/spaceimages/images/largesize/PIA23386_hires.jpg\n",
      "https://www.jpl.nasa.gov/spaceimages/images/largesize/PIA23385_hires.jpg\n",
      "https://www.jpl.nasa.gov/spaceimages/images/largesize/PIA23384_hires.jpg\n",
      "https://www.jpl.nasa.gov/spaceimages/images/largesize/PIA23383_hires.jpg\n",
      "https://www.jpl.nasa.gov/spaceimages/images/largesize/PIA23382_hires.jpg\n",
      "https://www.jpl.nasa.gov/spaceimages/images/largesize/PIA23348_hires.jpg\n",
      "https://www.jpl.nasa.gov/spaceimages/images/largesize/PIA23347_hires.jpg\n",
      "https://www.jpl.nasa.gov/spaceimages/images/largesize/PIA23346_hires.jpg\n",
      "https://www.jpl.nasa.gov/spaceimages/images/largesize/PIA23381_hires.jpg\n",
      "https://www.jpl.nasa.gov/spaceimages/images/largesize/PIA23370_hires.jpg\n",
      "https://www.jpl.nasa.gov/spaceimages/images/largesize/PIA23369_hires.jpg\n",
      "https://www.jpl.nasa.gov/spaceimages/images/largesize/PIA23368_hires.jpg\n",
      "https://www.jpl.nasa.gov/spaceimages/images/largesize/PIA23367_hires.jpg\n",
      "https://www.jpl.nasa.gov/spaceimages/images/largesize/PIA23366_hires.jpg\n",
      "https://www.jpl.nasa.gov/spaceimages/images/largesize/PIA23365_hires.jpg\n",
      "https://www.jpl.nasa.gov/spaceimages/images/largesize/PIA23364_hires.jpg\n",
      "https://www.jpl.nasa.gov/spaceimages/images/largesize/PIA23363_hires.jpg\n",
      "https://www.jpl.nasa.gov/spaceimages/images/largesize/PIA23362_hires.jpg\n",
      "https://www.jpl.nasa.gov/spaceimages/images/largesize/PIA23344_hires.jpg\n"
     ]
    }
   ],
   "source": [
    "# Locate images\n",
    "articles = soup1.find('ul', class_='articles').find_all('li', class_='slide')\n",
    "\n",
    "# Find URL and store into 'featured_image_url' list\n",
    "featured_image_url = []\n",
    "try:\n",
    "    for art in articles:\n",
    "        featured_image = art.a['data-fancybox-href']\n",
    "        featured_image_url.append(\"https://www.jpl.nasa.gov\" + featured_image)\n",
    "        print (f\"https://www.jpl.nasa.gov{featured_image}\")\n",
    "    \n",
    "except AttributeError as e:\n",
    "    print(e)"
   ]
  },
  {
   "cell_type": "markdown",
   "metadata": {},
   "source": [
    "----\n",
    "\n",
    "### Mars Weather"
   ]
  },
  {
   "cell_type": "code",
   "execution_count": 69,
   "metadata": {},
   "outputs": [],
   "source": [
    "# Initiate new url and browser to visit it\n",
    "url2 = 'https://twitter.com/marswxreport?lang=en'\n",
    "browser.visit(url2)"
   ]
  },
  {
   "cell_type": "code",
   "execution_count": 70,
   "metadata": {},
   "outputs": [],
   "source": [
    "# Extract HTML from site\n",
    "html2 = browser.html\n",
    "soup2 = bs(html2, 'html.parser')"
   ]
  },
  {
   "cell_type": "code",
   "execution_count": 71,
   "metadata": {},
   "outputs": [
    {
     "name": "stdout",
     "output_type": "stream",
     "text": [
      "\n",
      "InSight sol 265 (2019-08-25) low -99.4ºC (-146.9ºF) high -26.3ºC (-15.3ºF)\n",
      "winds from the SSE at 5.3 m/s (12.0 mph) gusting to 16.1 m/s (35.9 mph)\n",
      "pressure at 7.50 hPapic.twitter.com/9YLawm67zS\n",
      "\n",
      "\n",
      "InSight sol 264 (2019-08-24) low -101.0ºC (-149.7ºF) high -26.7ºC (-16.1ºF)\n",
      "winds from the SW at 4.4 m/s (9.9 mph) gusting to 17.4 m/s (38.9 mph)\n",
      "pressure at 7.60 hPapic.twitter.com/xIytu1MnDG\n",
      "\n",
      "\n",
      "InSight sol 263 (2019-08-23) low -100.9ºC (-149.6ºF) high -27.2ºC (-17.0ºF)\n",
      "winds from the SW at 4.1 m/s (9.2 mph) gusting to 18.3 m/s (40.9 mph)\n",
      "pressure at 7.60 hPa\n",
      "\n",
      "\n",
      "InSight sol 262 (2019-08-22) low -101.3ºC (-150.3ºF) high -26.4ºC (-15.6ºF)\n",
      "winds from the SSE at 4.2 m/s (9.4 mph) gusting to 15.8 m/s (35.3 mph)\n",
      "pressure at 7.60 hPa\n",
      "\n",
      "\n",
      "InSight sol 261 (2019-08-21) low -102.4ºC (-152.4ºF) high -26.6ºC (-15.8ºF)\n",
      "winds from the SSE at 4.9 m/s (11.0 mph) gusting to 16.0 m/s (35.8 mph)\n",
      "pressure at 7.70 hPapic.twitter.com/MhPPOHJg3m\n",
      "\n",
      "\n",
      "InSight sol 260 (2019-08-20) low -101.7ºC (-151.1ºF) high -28.6ºC (-19.5ºF)\n",
      "pressure at 7.60 hPa\n",
      "\n",
      "\n",
      "InSight sol 259 (2019-08-19) low -101.0ºC (-149.8ºF) high -27.1ºC (-16.9ºF)\n",
      "winds from the SW at 4.3 m/s (9.6 mph) gusting to 17.6 m/s (39.4 mph)\n",
      "pressure at 7.60 hPa\n",
      "\n",
      "\n",
      "InSight sol 258 (2019-08-18) low -100.0ºC (-148.1ºF) high -26.2ºC (-15.2ºF)\n",
      "winds from the SSE at 5.3 m/s (11.9 mph) gusting to 16.8 m/s (37.6 mph)\n",
      "pressure at 7.60 hPapic.twitter.com/5nCVjcsmlZ\n",
      "\n",
      "\n",
      "InSight sol 257 (2019-08-17) low -100.2ºC (-148.4ºF) high -26.5ºC (-15.7ºF)\n",
      "winds from the SSE at 4.4 m/s (9.8 mph) gusting to 17.1 m/s (38.2 mph)\n",
      "pressure at 7.60 hPapic.twitter.com/hBQzJWARH0\n",
      "\n",
      "\n",
      "InSight sol 256 (2019-08-16) low -101.7ºC (-151.1ºF) high -25.6ºC (-14.2ºF)\n",
      "winds from the SW at 4.2 m/s (9.4 mph) gusting to 17.9 m/s (40.0 mph)\n",
      "pressure at 7.60 hPa\n",
      "\n",
      "\n",
      "InSight sol 255 (2019-08-15) low -100.1ºC (-148.1ºF) high -24.7ºC (-12.4ºF)\n",
      "winds from the SSW at 4.5 m/s (10.0 mph) gusting to 17.3 m/s (38.6 mph)\n",
      "pressure at 7.60 hPa\n",
      "\n",
      "\n",
      "InSight sol 254 (2019-08-14) low -99.3ºC (-146.7ºF) high -25.9ºC (-14.6ºF)\n",
      "winds from the SE at 4.9 m/s (10.9 mph) gusting to 18.1 m/s (40.5 mph)\n",
      "pressure at 7.60 hPa\n",
      "\n",
      "\n",
      "\"Dusty\" the Earthbound twin (triplet?) of @MarsRovers  Opportunity & Spirit is heading for a new home at the National @airandspace Museum.https://twitter.com/AstroStaab/status/1162103864608169984 …\n",
      "\n",
      "\n",
      "InSight sol 253 (2019-08-13) low -100.0ºC (-148.1ºF) high -25.5ºC (-13.9ºF)\n",
      "winds from the SSE at 4.6 m/s (10.3 mph) gusting to 16.4 m/s (36.6 mph)\n",
      "pressure at 7.60 hPapic.twitter.com/OnwaHAaYRH\n",
      "\n",
      "\n",
      "InSight sol 252 (2019-08-12) low -100.8ºC (-149.4ºF) high -26.0ºC (-14.8ºF)\n",
      "winds from the SSW at 4.4 m/s (9.8 mph) gusting to 18.3 m/s (40.9 mph)\n",
      "pressure at 7.60 hPapic.twitter.com/WY3JQBXVuU\n",
      "\n",
      "\n",
      "I’d say a plutonium-238 powered RTG qualifies the Curiosity and Mars2020 rovers as alternative fuel vehicles. You can explore these and other missions, rockets and more with JPL’s Spacecraft AR for IOS and Androhttps://www.jpl.nasa.gov/apps/pic.twitter.com/f4SheTlQyY\n",
      "\n",
      "\n",
      "InSight sol 251 (2019-08-11) low -101.0ºC (-149.7ºF) high -26.5ºC (-15.8ºF)\n",
      "winds from the SSE at 4.1 m/s (9.2 mph) gusting to 17.5 m/s (39.1 mph)\n",
      "pressure at 7.60 hPapic.twitter.com/9mgFzHl8t3\n",
      "\n",
      "\n",
      "InSight sol 250 (2019-08-10) low -100.0ºC (-148.1ºF) high -26.2ºC (-15.1ºF)\n",
      "winds from the SSE at 4.4 m/s (9.8 mph) gusting to 16.2 m/s (36.2 mph)\n",
      "pressure at 7.60 hPapic.twitter.com/9sZRRUi3dm\n",
      "\n",
      "\n",
      "InSight sol 249 (2019-08-09) low -98.8ºC (-145.8ºF) high -26.0ºC (-14.8ºF)\n",
      "winds from the SSE at 4.4 m/s (9.8 mph) gusting to 17.5 m/s (39.1 mph)\n",
      "pressure at 7.60 hPapic.twitter.com/jDOsvHTwYg\n",
      "\n",
      "\n",
      "InSight sol 248 (2019-08-08) low -99.6ºC (-147.3ºF) high -25.8ºC (-14.4ºF)\n",
      "winds from the SSE at 4.5 m/s (10.0 mph) gusting to 16.7 m/s (37.3 mph)\n",
      "pressure at 7.60 hPa\n",
      "\n"
     ]
    }
   ],
   "source": [
    "# Find and print Mars Weather\n",
    "mars_weather_all = (soup2.find_all('div', class_='js-tweet-text-container'))\n",
    "\n",
    "for weather in mars_weather_all:\n",
    "    print(weather.text)"
   ]
  },
  {
   "cell_type": "markdown",
   "metadata": {},
   "source": [
    "----\n",
    "\n",
    "### Mars Facts"
   ]
  },
  {
   "cell_type": "code",
   "execution_count": null,
   "metadata": {},
   "outputs": [],
   "source": [
    "# Initiate new url\n",
    "url3 = 'https://space-facts.com/mars/'"
   ]
  },
  {
   "cell_type": "code",
   "execution_count": null,
   "metadata": {},
   "outputs": [],
   "source": [
    "# Extract HTML from site\n",
    "tables = pd.read_html(url3)\n",
    "tables"
   ]
  },
  {
   "cell_type": "code",
   "execution_count": null,
   "metadata": {},
   "outputs": [],
   "source": [
    "# Create DF of table1\n",
    "mars_table1_df = tables[0]\n",
    "mars_table1_df"
   ]
  },
  {
   "cell_type": "code",
   "execution_count": null,
   "metadata": {},
   "outputs": [],
   "source": [
    "# Convert table1 to HTML\n",
    "mars_table1_HTML = mars_table1_df.to_html()\n",
    "mars_table1_HTML"
   ]
  },
  {
   "cell_type": "code",
   "execution_count": null,
   "metadata": {},
   "outputs": [],
   "source": [
    "# Create DF of table 2\n",
    "mars_table2_df = tables[1]\n",
    "mars_table2_df"
   ]
  },
  {
   "cell_type": "code",
   "execution_count": null,
   "metadata": {},
   "outputs": [],
   "source": [
    "# Convert table2 to HTMl\n",
    "mars_table2_HTML = mars_table2_df.to_html()\n",
    "mars_table2_HTML"
   ]
  },
  {
   "cell_type": "markdown",
   "metadata": {},
   "source": [
    "----\n",
    "\n",
    "### Mars Hemispheres\n"
   ]
  },
  {
   "cell_type": "code",
   "execution_count": null,
   "metadata": {},
   "outputs": [],
   "source": [
    "# Initiate new URL\n",
    "url4 = 'https://astrogeology.usgs.gov/search/results?q=hemisphere+enhanced&k1=target&v1=Mars'\n",
    "browser.visit(url4)"
   ]
  },
  {
   "cell_type": "code",
   "execution_count": null,
   "metadata": {},
   "outputs": [],
   "source": [
    "for category in categories:\n",
    "    title = category.text.strip()\n",
    "    category_list.append(title)\n",
    "    book_url = category.find('a')['href']\n",
    "    url_list.append(book_url)"
   ]
  },
  {
   "cell_type": "code",
   "execution_count": null,
   "metadata": {},
   "outputs": [],
   "source": [
    "# Extract HTML from site\n",
    "html4 = browser.html\n",
    "soup4 = bs(html4, 'html.parser')\n",
    "\n",
    "# Identify links to be visited\n",
    "links_container = soup4.find_all('div', class_='item')\n",
    "\n",
    "# Visit each site obtained above and extract Title and full-res image URLs\n",
    "hemisphere_image_urls = []\n",
    "\n",
    "for lc in links_container:\n",
    "    # Find link to visit and visit it\n",
    "    link = lc.a['href']\n",
    "    full_link = \"https://astrogeology.usgs.gov\" + link\n",
    "    browser.visit(full_link)\n",
    "    click_soup = bs(browser.html, 'html.parser')\n",
    "    \n",
    "    # Find title\n",
    "    title = click_soup.find('h2').text.strip('Enhanced').rstrip()\n",
    "    print(title)\n",
    "    \n",
    "    # Find URL\n",
    "    img_url = click_soup.find('div', class_='wide-image-wrapper').find('img', class_='wide-image')['src']\n",
    "    img_url = \"https://astrogeology.usgs.gov\"+img_url\n",
    "    print(img_url)\n",
    "    \n",
    "    # Append dictionary of title and img_url to list\n",
    "    hemisphere_image_urls.append({\"title\": title, \"img_url\": img_url})\n",
    "    \n",
    "    # Return to starting page (used for testing purposes)\n",
    "    browser.visit(url4)\n",
    "\n",
    "# Print list of dictionaries of hemispheres\n",
    "print(hemisphere_image_urls)"
   ]
  },
  {
   "cell_type": "markdown",
   "metadata": {},
   "source": [
    "## Step 2 - MongoDB and Flask Application"
   ]
  },
  {
   "cell_type": "code",
   "execution_count": null,
   "metadata": {},
   "outputs": [],
   "source": [
    "# Convert ipynb to py file\n",
    "#!jupyter nbconvert --to script JJREE_mission_to_mars.ipynb\n"
   ]
  },
  {
   "cell_type": "code",
   "execution_count": null,
   "metadata": {},
   "outputs": [],
   "source": []
  }
 ],
 "metadata": {
  "kernelspec": {
   "display_name": "Python 36 (PythonData)",
   "language": "python",
   "name": "pythondata"
  },
  "language_info": {
   "codemirror_mode": {
    "name": "ipython",
    "version": 3
   },
   "file_extension": ".py",
   "mimetype": "text/x-python",
   "name": "python",
   "nbconvert_exporter": "python",
   "pygments_lexer": "ipython3",
   "version": "3.6.8"
  }
 },
 "nbformat": 4,
 "nbformat_minor": 2
}
